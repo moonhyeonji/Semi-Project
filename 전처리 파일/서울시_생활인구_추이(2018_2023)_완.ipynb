{
 "cells": [
  {
   "cell_type": "markdown",
   "id": "a8c11b31",
   "metadata": {},
   "source": [
    "# 차기 신도시 아파트 공급을 위한 경기도 외각지역 위치 추천 &연도별 아파트 면적 선호도 추이\n",
    "## 데이터 분석 및 시각화 과정 세미 프로젝트(M조) : "
   ]
  },
  {
   "cell_type": "markdown",
   "id": "9851cdf7",
   "metadata": {},
   "source": [
    "## [배경] 서울시 생활인구 추이 확인(2018~2023)"
   ]
  },
  {
   "cell_type": "markdown",
   "id": "255efb6a",
   "metadata": {},
   "source": [
    "#### **처리목적**\n",
    "- 서울시 공공데이터를 활용하여 최근 6개년 서울의 일별 평균 생활 인구수를 확인"
   ]
  },
  {
   "cell_type": "markdown",
   "id": "1b521b65",
   "metadata": {},
   "source": [
    "#### **처리사항**\n",
    "1. 자치구단위 서울생활인구 일별 집계 데이터를 수집\n",
    "2. 년도별 생활인구수 추출 (2018년~2023년)\n",
    "3. 결과를 시각화"
   ]
  },
  {
   "cell_type": "markdown",
   "id": "56ae8622",
   "metadata": {},
   "source": [
    "#### **활용 데이터**\n",
    "1. KOSIS 국가통계포털 : 자치구단위 서울생활인구 일별 집계표 (https://data.seoul.go.kr/dataList/OA-15379/S/1/datasetView.do)"
   ]
  },
  {
   "cell_type": "code",
   "execution_count": 1,
   "id": "4c46437a",
   "metadata": {},
   "outputs": [],
   "source": [
    "import numpy as np\n",
    "import pandas as pd"
   ]
  },
  {
   "cell_type": "code",
   "execution_count": 2,
   "id": "25dea356",
   "metadata": {},
   "outputs": [],
   "source": [
    "from IPython.core.interactiveshell import InteractiveShell\n",
    "InteractiveShell.ast_node_interactivity=\"all\""
   ]
  },
  {
   "cell_type": "code",
   "execution_count": 3,
   "id": "f57b572d",
   "metadata": {},
   "outputs": [],
   "source": [
    "import warnings\n",
    "warnings.filterwarnings(action='ignore')"
   ]
  },
  {
   "cell_type": "markdown",
   "id": "1f05f021",
   "metadata": {},
   "source": [
    "## 1. 데이터 불러오기"
   ]
  },
  {
   "cell_type": "code",
   "execution_count": 4,
   "id": "e208a8ac",
   "metadata": {},
   "outputs": [
    {
     "data": {
      "text/html": [
       "<div>\n",
       "<style scoped>\n",
       "    .dataframe tbody tr th:only-of-type {\n",
       "        vertical-align: middle;\n",
       "    }\n",
       "\n",
       "    .dataframe tbody tr th {\n",
       "        vertical-align: top;\n",
       "    }\n",
       "\n",
       "    .dataframe thead th {\n",
       "        text-align: right;\n",
       "    }\n",
       "</style>\n",
       "<table border=\"1\" class=\"dataframe\">\n",
       "  <thead>\n",
       "    <tr style=\"text-align: right;\">\n",
       "      <th></th>\n",
       "      <th>기준일ID</th>\n",
       "      <th>시군구코드</th>\n",
       "      <th>시군구명</th>\n",
       "      <th>총생활인구수</th>\n",
       "      <th>내국인생활인구수</th>\n",
       "      <th>장기체류외국인인구수</th>\n",
       "      <th>단기체류외국인인구수</th>\n",
       "      <th>일최대인구수</th>\n",
       "      <th>일최소인구수</th>\n",
       "      <th>주간인구수(09~18)</th>\n",
       "      <th>야간인구수(19~08)</th>\n",
       "      <th>일최대이동인구수</th>\n",
       "      <th>서울외유입인구수</th>\n",
       "      <th>동일자치구행정동간이동인구수</th>\n",
       "      <th>자치구간이동인구수</th>\n",
       "    </tr>\n",
       "  </thead>\n",
       "  <tbody>\n",
       "    <tr>\n",
       "      <th>0</th>\n",
       "      <td>20230201</td>\n",
       "      <td>11000</td>\n",
       "      <td>서울시</td>\n",
       "      <td>1.109158e+07</td>\n",
       "      <td>1.056832e+07</td>\n",
       "      <td>382631.4555</td>\n",
       "      <td>140630.1604</td>\n",
       "      <td>1.152565e+07</td>\n",
       "      <td>1.070144e+07</td>\n",
       "      <td>1.144363e+07</td>\n",
       "      <td>1.084011e+07</td>\n",
       "      <td>6.141433e+06</td>\n",
       "      <td>1.609427e+06</td>\n",
       "      <td>1.974506e+06</td>\n",
       "      <td>2.557500e+06</td>\n",
       "    </tr>\n",
       "    <tr>\n",
       "      <th>1</th>\n",
       "      <td>20230201</td>\n",
       "      <td>11110</td>\n",
       "      <td>종로구</td>\n",
       "      <td>3.156342e+05</td>\n",
       "      <td>2.920504e+05</td>\n",
       "      <td>15144.3895</td>\n",
       "      <td>8439.4291</td>\n",
       "      <td>4.394031e+05</td>\n",
       "      <td>2.218886e+05</td>\n",
       "      <td>4.050167e+05</td>\n",
       "      <td>2.517897e+05</td>\n",
       "      <td>2.843497e+05</td>\n",
       "      <td>8.155447e+04</td>\n",
       "      <td>3.081256e+04</td>\n",
       "      <td>1.719827e+05</td>\n",
       "    </tr>\n",
       "    <tr>\n",
       "      <th>2</th>\n",
       "      <td>20230201</td>\n",
       "      <td>11140</td>\n",
       "      <td>중구</td>\n",
       "      <td>3.391822e+05</td>\n",
       "      <td>2.918301e+05</td>\n",
       "      <td>19459.9565</td>\n",
       "      <td>27892.1360</td>\n",
       "      <td>4.964003e+05</td>\n",
       "      <td>2.166010e+05</td>\n",
       "      <td>4.584881e+05</td>\n",
       "      <td>2.539636e+05</td>\n",
       "      <td>3.456269e+05</td>\n",
       "      <td>1.003537e+05</td>\n",
       "      <td>2.850753e+04</td>\n",
       "      <td>2.167657e+05</td>\n",
       "    </tr>\n",
       "  </tbody>\n",
       "</table>\n",
       "</div>"
      ],
      "text/plain": [
       "      기준일ID  시군구코드 시군구명        총생활인구수      내국인생활인구수   장기체류외국인인구수   단기체류외국인인구수  \\\n",
       "0  20230201  11000  서울시  1.109158e+07  1.056832e+07  382631.4555  140630.1604   \n",
       "1  20230201  11110  종로구  3.156342e+05  2.920504e+05   15144.3895    8439.4291   \n",
       "2  20230201  11140   중구  3.391822e+05  2.918301e+05   19459.9565   27892.1360   \n",
       "\n",
       "         일최대인구수        일최소인구수  주간인구수(09~18)  야간인구수(19~08)      일최대이동인구수  \\\n",
       "0  1.152565e+07  1.070144e+07  1.144363e+07  1.084011e+07  6.141433e+06   \n",
       "1  4.394031e+05  2.218886e+05  4.050167e+05  2.517897e+05  2.843497e+05   \n",
       "2  4.964003e+05  2.166010e+05  4.584881e+05  2.539636e+05  3.456269e+05   \n",
       "\n",
       "       서울외유입인구수  동일자치구행정동간이동인구수     자치구간이동인구수  \n",
       "0  1.609427e+06    1.974506e+06  2.557500e+06  \n",
       "1  8.155447e+04    3.081256e+04  1.719827e+05  \n",
       "2  1.003537e+05    2.850753e+04  2.167657e+05  "
      ]
     },
     "execution_count": 4,
     "metadata": {},
     "output_type": "execute_result"
    }
   ],
   "source": [
    "#데이터 불러오기\n",
    "data = pd.read_csv('Pdata/서울시_생활인구_일수별.csv', encoding='cp949')\n",
    "data.head(3)"
   ]
  },
  {
   "cell_type": "markdown",
   "id": "5ef8fa9a",
   "metadata": {},
   "source": [
    "### 그래프에서 한글지원 되도록 하는 코드 삽입"
   ]
  },
  {
   "cell_type": "code",
   "execution_count": 5,
   "id": "23d172c0",
   "metadata": {},
   "outputs": [],
   "source": [
    "# 그래프에서 한글폰트 지원\n",
    "import matplotlib.pyplot as plt\n",
    "import platform\n",
    "\n",
    "from matplotlib import font_manager, rc\n",
    "plt.rcParams['axes.unicode_minus'] = False\n",
    "\n",
    "if platform.system() == 'Darwin':  # 맥OS \n",
    "    rc('font', family='AppleGothic')\n",
    "elif platform.system() == 'Windows':  # 윈도우\n",
    "    path = \"c:/Windows/Fonts/malgun.ttf\"\n",
    "    font_name = font_manager.FontProperties(fname=path).get_name()\n",
    "    rc('font', family=font_name)\n",
    "else:\n",
    "    print('Unknown system...  sorry~~~')"
   ]
  },
  {
   "cell_type": "markdown",
   "id": "7d004a5e",
   "metadata": {},
   "source": [
    "### 데이터프레임의 변수 정보 확인"
   ]
  },
  {
   "cell_type": "code",
   "execution_count": 6,
   "id": "19f6e48c",
   "metadata": {
    "scrolled": true
   },
   "outputs": [
    {
     "name": "stdout",
     "output_type": "stream",
     "text": [
      "<class 'pandas.core.frame.DataFrame'>\n",
      "RangeIndex: 45526 entries, 0 to 45525\n",
      "Data columns (total 15 columns):\n",
      " #   Column          Non-Null Count  Dtype  \n",
      "---  ------          --------------  -----  \n",
      " 0   기준일ID           45526 non-null  int64  \n",
      " 1   시군구코드           45526 non-null  int64  \n",
      " 2   시군구명            45526 non-null  object \n",
      " 3   총생활인구수          45526 non-null  float64\n",
      " 4   내국인생활인구수        45526 non-null  float64\n",
      " 5   장기체류외국인인구수      45526 non-null  float64\n",
      " 6   단기체류외국인인구수      45526 non-null  float64\n",
      " 7   일최대인구수          45526 non-null  float64\n",
      " 8   일최소인구수          45526 non-null  float64\n",
      " 9   주간인구수(09~18)    45526 non-null  float64\n",
      " 10  야간인구수(19~08)    45526 non-null  float64\n",
      " 11  일최대이동인구수        45526 non-null  float64\n",
      " 12  서울외유입인구수        45526 non-null  float64\n",
      " 13  동일자치구행정동간이동인구수  45526 non-null  float64\n",
      " 14  자치구간이동인구수       45526 non-null  float64\n",
      "dtypes: float64(12), int64(2), object(1)\n",
      "memory usage: 5.2+ MB\n"
     ]
    }
   ],
   "source": [
    "# 데이터 정보확인\n",
    "data.info()"
   ]
  },
  {
   "cell_type": "markdown",
   "id": "061315f0",
   "metadata": {},
   "source": [
    "## 2. 년도별 서울시 일별 평균 생활인구수 데이터프레임 생성"
   ]
  },
  {
   "cell_type": "markdown",
   "id": "24c1924a",
   "metadata": {},
   "source": [
    "### 시군구명이 서울시인 행 추출"
   ]
  },
  {
   "cell_type": "code",
   "execution_count": 7,
   "id": "f786f381",
   "metadata": {
    "scrolled": false
   },
   "outputs": [
    {
     "data": {
      "text/html": [
       "<div>\n",
       "<style scoped>\n",
       "    .dataframe tbody tr th:only-of-type {\n",
       "        vertical-align: middle;\n",
       "    }\n",
       "\n",
       "    .dataframe tbody tr th {\n",
       "        vertical-align: top;\n",
       "    }\n",
       "\n",
       "    .dataframe thead th {\n",
       "        text-align: right;\n",
       "    }\n",
       "</style>\n",
       "<table border=\"1\" class=\"dataframe\">\n",
       "  <thead>\n",
       "    <tr style=\"text-align: right;\">\n",
       "      <th></th>\n",
       "      <th>기준일ID</th>\n",
       "      <th>시군구코드</th>\n",
       "      <th>시군구명</th>\n",
       "      <th>총생활인구수</th>\n",
       "      <th>내국인생활인구수</th>\n",
       "      <th>장기체류외국인인구수</th>\n",
       "      <th>단기체류외국인인구수</th>\n",
       "      <th>일최대인구수</th>\n",
       "      <th>일최소인구수</th>\n",
       "      <th>주간인구수(09~18)</th>\n",
       "      <th>야간인구수(19~08)</th>\n",
       "      <th>일최대이동인구수</th>\n",
       "      <th>서울외유입인구수</th>\n",
       "      <th>동일자치구행정동간이동인구수</th>\n",
       "      <th>자치구간이동인구수</th>\n",
       "    </tr>\n",
       "  </thead>\n",
       "  <tbody>\n",
       "    <tr>\n",
       "      <th>0</th>\n",
       "      <td>20230201</td>\n",
       "      <td>11000</td>\n",
       "      <td>서울시</td>\n",
       "      <td>11091577.02</td>\n",
       "      <td>10568315.40</td>\n",
       "      <td>382631.4555</td>\n",
       "      <td>140630.1604</td>\n",
       "      <td>11525645.38</td>\n",
       "      <td>10701442.25</td>\n",
       "      <td>11443628.40</td>\n",
       "      <td>10840111.75</td>\n",
       "      <td>6141433.269</td>\n",
       "      <td>1609427.158</td>\n",
       "      <td>1974505.910</td>\n",
       "      <td>2557500.201</td>\n",
       "    </tr>\n",
       "    <tr>\n",
       "      <th>26</th>\n",
       "      <td>20230131</td>\n",
       "      <td>11000</td>\n",
       "      <td>서울시</td>\n",
       "      <td>11040045.54</td>\n",
       "      <td>10518814.39</td>\n",
       "      <td>381331.6172</td>\n",
       "      <td>139899.5268</td>\n",
       "      <td>11464894.94</td>\n",
       "      <td>10643224.17</td>\n",
       "      <td>11386192.90</td>\n",
       "      <td>10792797.42</td>\n",
       "      <td>6179308.688</td>\n",
       "      <td>1639698.218</td>\n",
       "      <td>1969180.451</td>\n",
       "      <td>2570430.019</td>\n",
       "    </tr>\n",
       "    <tr>\n",
       "      <th>52</th>\n",
       "      <td>20230130</td>\n",
       "      <td>11000</td>\n",
       "      <td>서울시</td>\n",
       "      <td>11014995.24</td>\n",
       "      <td>10490417.00</td>\n",
       "      <td>381979.3859</td>\n",
       "      <td>142598.8541</td>\n",
       "      <td>11434905.99</td>\n",
       "      <td>10635831.97</td>\n",
       "      <td>11358550.36</td>\n",
       "      <td>10769598.73</td>\n",
       "      <td>6126329.889</td>\n",
       "      <td>1627239.850</td>\n",
       "      <td>1966478.209</td>\n",
       "      <td>2532611.830</td>\n",
       "    </tr>\n",
       "    <tr>\n",
       "      <th>78</th>\n",
       "      <td>20230129</td>\n",
       "      <td>11000</td>\n",
       "      <td>서울시</td>\n",
       "      <td>10685365.22</td>\n",
       "      <td>10158209.61</td>\n",
       "      <td>384513.0991</td>\n",
       "      <td>142642.5100</td>\n",
       "      <td>10818703.01</td>\n",
       "      <td>10546278.75</td>\n",
       "      <td>10773690.21</td>\n",
       "      <td>10622275.95</td>\n",
       "      <td>4477968.105</td>\n",
       "      <td>1075343.631</td>\n",
       "      <td>1883572.934</td>\n",
       "      <td>1519051.541</td>\n",
       "    </tr>\n",
       "    <tr>\n",
       "      <th>104</th>\n",
       "      <td>20230128</td>\n",
       "      <td>11000</td>\n",
       "      <td>서울시</td>\n",
       "      <td>10761553.96</td>\n",
       "      <td>10233241.95</td>\n",
       "      <td>382181.1193</td>\n",
       "      <td>146130.8887</td>\n",
       "      <td>10952571.71</td>\n",
       "      <td>10604725.58</td>\n",
       "      <td>10889130.51</td>\n",
       "      <td>10670427.85</td>\n",
       "      <td>4814124.007</td>\n",
       "      <td>1251421.690</td>\n",
       "      <td>1863193.143</td>\n",
       "      <td>1699509.175</td>\n",
       "    </tr>\n",
       "    <tr>\n",
       "      <th>...</th>\n",
       "      <td>...</td>\n",
       "      <td>...</td>\n",
       "      <td>...</td>\n",
       "      <td>...</td>\n",
       "      <td>...</td>\n",
       "      <td>...</td>\n",
       "      <td>...</td>\n",
       "      <td>...</td>\n",
       "      <td>...</td>\n",
       "      <td>...</td>\n",
       "      <td>...</td>\n",
       "      <td>...</td>\n",
       "      <td>...</td>\n",
       "      <td>...</td>\n",
       "      <td>...</td>\n",
       "    </tr>\n",
       "    <tr>\n",
       "      <th>45396</th>\n",
       "      <td>20180409</td>\n",
       "      <td>11000</td>\n",
       "      <td>서울시</td>\n",
       "      <td>11714340.23</td>\n",
       "      <td>11120562.22</td>\n",
       "      <td>411823.8641</td>\n",
       "      <td>181954.1524</td>\n",
       "      <td>12055014.52</td>\n",
       "      <td>11362545.49</td>\n",
       "      <td>12001505.09</td>\n",
       "      <td>11509222.48</td>\n",
       "      <td>7287968.585</td>\n",
       "      <td>1645367.887</td>\n",
       "      <td>2514716.763</td>\n",
       "      <td>3127883.935</td>\n",
       "    </tr>\n",
       "    <tr>\n",
       "      <th>45422</th>\n",
       "      <td>20180408</td>\n",
       "      <td>11000</td>\n",
       "      <td>서울시</td>\n",
       "      <td>11348961.13</td>\n",
       "      <td>10723031.46</td>\n",
       "      <td>422623.4649</td>\n",
       "      <td>203306.2075</td>\n",
       "      <td>11492611.86</td>\n",
       "      <td>11169683.05</td>\n",
       "      <td>11412671.13</td>\n",
       "      <td>11303454.00</td>\n",
       "      <td>5578693.200</td>\n",
       "      <td>1225405.813</td>\n",
       "      <td>2418676.638</td>\n",
       "      <td>1934610.749</td>\n",
       "    </tr>\n",
       "    <tr>\n",
       "      <th>45448</th>\n",
       "      <td>20180407</td>\n",
       "      <td>11000</td>\n",
       "      <td>서울시</td>\n",
       "      <td>11476950.74</td>\n",
       "      <td>10841177.79</td>\n",
       "      <td>414080.6254</td>\n",
       "      <td>221692.3309</td>\n",
       "      <td>11672851.90</td>\n",
       "      <td>11292851.39</td>\n",
       "      <td>11582037.06</td>\n",
       "      <td>11401889.09</td>\n",
       "      <td>6060582.288</td>\n",
       "      <td>1473538.730</td>\n",
       "      <td>2350948.857</td>\n",
       "      <td>2236094.701</td>\n",
       "    </tr>\n",
       "    <tr>\n",
       "      <th>45474</th>\n",
       "      <td>20180406</td>\n",
       "      <td>11000</td>\n",
       "      <td>서울시</td>\n",
       "      <td>11761986.13</td>\n",
       "      <td>11147664.84</td>\n",
       "      <td>411175.7222</td>\n",
       "      <td>203145.5656</td>\n",
       "      <td>12097926.96</td>\n",
       "      <td>11407425.72</td>\n",
       "      <td>12040390.25</td>\n",
       "      <td>11563126.04</td>\n",
       "      <td>7183587.001</td>\n",
       "      <td>1643612.981</td>\n",
       "      <td>2452549.376</td>\n",
       "      <td>3087424.644</td>\n",
       "    </tr>\n",
       "    <tr>\n",
       "      <th>45500</th>\n",
       "      <td>20180405</td>\n",
       "      <td>11000</td>\n",
       "      <td>서울시</td>\n",
       "      <td>11772936.24</td>\n",
       "      <td>11177009.24</td>\n",
       "      <td>414258.0507</td>\n",
       "      <td>181668.9444</td>\n",
       "      <td>12142685.28</td>\n",
       "      <td>11382674.82</td>\n",
       "      <td>12080624.39</td>\n",
       "      <td>11553158.99</td>\n",
       "      <td>7187956.401</td>\n",
       "      <td>1620233.550</td>\n",
       "      <td>2489450.994</td>\n",
       "      <td>3078271.856</td>\n",
       "    </tr>\n",
       "  </tbody>\n",
       "</table>\n",
       "<p>1751 rows × 15 columns</p>\n",
       "</div>"
      ],
      "text/plain": [
       "          기준일ID  시군구코드 시군구명       총생활인구수     내국인생활인구수   장기체류외국인인구수  \\\n",
       "0      20230201  11000  서울시  11091577.02  10568315.40  382631.4555   \n",
       "26     20230131  11000  서울시  11040045.54  10518814.39  381331.6172   \n",
       "52     20230130  11000  서울시  11014995.24  10490417.00  381979.3859   \n",
       "78     20230129  11000  서울시  10685365.22  10158209.61  384513.0991   \n",
       "104    20230128  11000  서울시  10761553.96  10233241.95  382181.1193   \n",
       "...         ...    ...  ...          ...          ...          ...   \n",
       "45396  20180409  11000  서울시  11714340.23  11120562.22  411823.8641   \n",
       "45422  20180408  11000  서울시  11348961.13  10723031.46  422623.4649   \n",
       "45448  20180407  11000  서울시  11476950.74  10841177.79  414080.6254   \n",
       "45474  20180406  11000  서울시  11761986.13  11147664.84  411175.7222   \n",
       "45500  20180405  11000  서울시  11772936.24  11177009.24  414258.0507   \n",
       "\n",
       "        단기체류외국인인구수       일최대인구수       일최소인구수  주간인구수(09~18)  야간인구수(19~08)  \\\n",
       "0      140630.1604  11525645.38  10701442.25   11443628.40   10840111.75   \n",
       "26     139899.5268  11464894.94  10643224.17   11386192.90   10792797.42   \n",
       "52     142598.8541  11434905.99  10635831.97   11358550.36   10769598.73   \n",
       "78     142642.5100  10818703.01  10546278.75   10773690.21   10622275.95   \n",
       "104    146130.8887  10952571.71  10604725.58   10889130.51   10670427.85   \n",
       "...            ...          ...          ...           ...           ...   \n",
       "45396  181954.1524  12055014.52  11362545.49   12001505.09   11509222.48   \n",
       "45422  203306.2075  11492611.86  11169683.05   11412671.13   11303454.00   \n",
       "45448  221692.3309  11672851.90  11292851.39   11582037.06   11401889.09   \n",
       "45474  203145.5656  12097926.96  11407425.72   12040390.25   11563126.04   \n",
       "45500  181668.9444  12142685.28  11382674.82   12080624.39   11553158.99   \n",
       "\n",
       "          일최대이동인구수     서울외유입인구수  동일자치구행정동간이동인구수    자치구간이동인구수  \n",
       "0      6141433.269  1609427.158     1974505.910  2557500.201  \n",
       "26     6179308.688  1639698.218     1969180.451  2570430.019  \n",
       "52     6126329.889  1627239.850     1966478.209  2532611.830  \n",
       "78     4477968.105  1075343.631     1883572.934  1519051.541  \n",
       "104    4814124.007  1251421.690     1863193.143  1699509.175  \n",
       "...            ...          ...             ...          ...  \n",
       "45396  7287968.585  1645367.887     2514716.763  3127883.935  \n",
       "45422  5578693.200  1225405.813     2418676.638  1934610.749  \n",
       "45448  6060582.288  1473538.730     2350948.857  2236094.701  \n",
       "45474  7183587.001  1643612.981     2452549.376  3087424.644  \n",
       "45500  7187956.401  1620233.550     2489450.994  3078271.856  \n",
       "\n",
       "[1751 rows x 15 columns]"
      ]
     },
     "execution_count": 7,
     "metadata": {},
     "output_type": "execute_result"
    },
    {
     "name": "stdout",
     "output_type": "stream",
     "text": [
      "<class 'pandas.core.frame.DataFrame'>\n",
      "Int64Index: 1751 entries, 0 to 45500\n",
      "Data columns (total 15 columns):\n",
      " #   Column          Non-Null Count  Dtype  \n",
      "---  ------          --------------  -----  \n",
      " 0   기준일ID           1751 non-null   int64  \n",
      " 1   시군구코드           1751 non-null   int64  \n",
      " 2   시군구명            1751 non-null   object \n",
      " 3   총생활인구수          1751 non-null   float64\n",
      " 4   내국인생활인구수        1751 non-null   float64\n",
      " 5   장기체류외국인인구수      1751 non-null   float64\n",
      " 6   단기체류외국인인구수      1751 non-null   float64\n",
      " 7   일최대인구수          1751 non-null   float64\n",
      " 8   일최소인구수          1751 non-null   float64\n",
      " 9   주간인구수(09~18)    1751 non-null   float64\n",
      " 10  야간인구수(19~08)    1751 non-null   float64\n",
      " 11  일최대이동인구수        1751 non-null   float64\n",
      " 12  서울외유입인구수        1751 non-null   float64\n",
      " 13  동일자치구행정동간이동인구수  1751 non-null   float64\n",
      " 14  자치구간이동인구수       1751 non-null   float64\n",
      "dtypes: float64(12), int64(2), object(1)\n",
      "memory usage: 218.9+ KB\n"
     ]
    }
   ],
   "source": [
    "# 시군구명이 '서울시' 인 행으로만 이루어진 데이터프레임 생성 \n",
    "data1=data[data['시군구명']=='서울시']\n",
    "data1\n",
    "data1.info()"
   ]
  },
  {
   "cell_type": "markdown",
   "id": "1786b6ff",
   "metadata": {},
   "source": [
    "### 분석에 필요한 컬럼만 추출"
   ]
  },
  {
   "cell_type": "code",
   "execution_count": 8,
   "id": "7140fde6",
   "metadata": {},
   "outputs": [
    {
     "data": {
      "text/html": [
       "<div>\n",
       "<style scoped>\n",
       "    .dataframe tbody tr th:only-of-type {\n",
       "        vertical-align: middle;\n",
       "    }\n",
       "\n",
       "    .dataframe tbody tr th {\n",
       "        vertical-align: top;\n",
       "    }\n",
       "\n",
       "    .dataframe thead th {\n",
       "        text-align: right;\n",
       "    }\n",
       "</style>\n",
       "<table border=\"1\" class=\"dataframe\">\n",
       "  <thead>\n",
       "    <tr style=\"text-align: right;\">\n",
       "      <th></th>\n",
       "      <th>기준일ID</th>\n",
       "      <th>시군구명</th>\n",
       "      <th>총생활인구수</th>\n",
       "    </tr>\n",
       "  </thead>\n",
       "  <tbody>\n",
       "    <tr>\n",
       "      <th>0</th>\n",
       "      <td>20230201</td>\n",
       "      <td>서울시</td>\n",
       "      <td>11091577.02</td>\n",
       "    </tr>\n",
       "    <tr>\n",
       "      <th>26</th>\n",
       "      <td>20230131</td>\n",
       "      <td>서울시</td>\n",
       "      <td>11040045.54</td>\n",
       "    </tr>\n",
       "    <tr>\n",
       "      <th>52</th>\n",
       "      <td>20230130</td>\n",
       "      <td>서울시</td>\n",
       "      <td>11014995.24</td>\n",
       "    </tr>\n",
       "    <tr>\n",
       "      <th>78</th>\n",
       "      <td>20230129</td>\n",
       "      <td>서울시</td>\n",
       "      <td>10685365.22</td>\n",
       "    </tr>\n",
       "    <tr>\n",
       "      <th>104</th>\n",
       "      <td>20230128</td>\n",
       "      <td>서울시</td>\n",
       "      <td>10761553.96</td>\n",
       "    </tr>\n",
       "    <tr>\n",
       "      <th>...</th>\n",
       "      <td>...</td>\n",
       "      <td>...</td>\n",
       "      <td>...</td>\n",
       "    </tr>\n",
       "    <tr>\n",
       "      <th>45396</th>\n",
       "      <td>20180409</td>\n",
       "      <td>서울시</td>\n",
       "      <td>11714340.23</td>\n",
       "    </tr>\n",
       "    <tr>\n",
       "      <th>45422</th>\n",
       "      <td>20180408</td>\n",
       "      <td>서울시</td>\n",
       "      <td>11348961.13</td>\n",
       "    </tr>\n",
       "    <tr>\n",
       "      <th>45448</th>\n",
       "      <td>20180407</td>\n",
       "      <td>서울시</td>\n",
       "      <td>11476950.74</td>\n",
       "    </tr>\n",
       "    <tr>\n",
       "      <th>45474</th>\n",
       "      <td>20180406</td>\n",
       "      <td>서울시</td>\n",
       "      <td>11761986.13</td>\n",
       "    </tr>\n",
       "    <tr>\n",
       "      <th>45500</th>\n",
       "      <td>20180405</td>\n",
       "      <td>서울시</td>\n",
       "      <td>11772936.24</td>\n",
       "    </tr>\n",
       "  </tbody>\n",
       "</table>\n",
       "<p>1751 rows × 3 columns</p>\n",
       "</div>"
      ],
      "text/plain": [
       "          기준일ID 시군구명       총생활인구수\n",
       "0      20230201  서울시  11091577.02\n",
       "26     20230131  서울시  11040045.54\n",
       "52     20230130  서울시  11014995.24\n",
       "78     20230129  서울시  10685365.22\n",
       "104    20230128  서울시  10761553.96\n",
       "...         ...  ...          ...\n",
       "45396  20180409  서울시  11714340.23\n",
       "45422  20180408  서울시  11348961.13\n",
       "45448  20180407  서울시  11476950.74\n",
       "45474  20180406  서울시  11761986.13\n",
       "45500  20180405  서울시  11772936.24\n",
       "\n",
       "[1751 rows x 3 columns]"
      ]
     },
     "execution_count": 8,
     "metadata": {},
     "output_type": "execute_result"
    }
   ],
   "source": [
    "# 필요한 컬럼만으로 새로운 데이터프레임 생성\n",
    "data_s = data1[['기준일ID','시군구명','총생활인구수']]\n",
    "data_s"
   ]
  },
  {
   "cell_type": "markdown",
   "id": "bd378367",
   "metadata": {},
   "source": [
    "#### 1) int형으로 되어있는 2023년 생활인구수 평균값 구하기"
   ]
  },
  {
   "cell_type": "code",
   "execution_count": 9,
   "id": "be660be4",
   "metadata": {},
   "outputs": [
    {
     "data": {
      "text/plain": [
       "10749341.7763125"
      ]
     },
     "execution_count": 9,
     "metadata": {},
     "output_type": "execute_result"
    }
   ],
   "source": [
    "# 2023년 일별 생활인구수 평균\n",
    "year23 = data_s[data_s.기준일ID >= 20230000]\n",
    "year23=(year23.총생활인구수.sum() / len(year23))\n",
    "year23"
   ]
  },
  {
   "cell_type": "markdown",
   "id": "62ebd54a",
   "metadata": {},
   "source": [
    "#### 2) int형으로 되어있는 2022년 생활인구수 평균값 구하기"
   ]
  },
  {
   "cell_type": "code",
   "execution_count": 10,
   "id": "4facdba7",
   "metadata": {},
   "outputs": [
    {
     "data": {
      "text/plain": [
       "10841955.707791781"
      ]
     },
     "execution_count": 10,
     "metadata": {},
     "output_type": "execute_result"
    }
   ],
   "source": [
    "# 2022년 일별 생활인구수 평균\n",
    "year22 = data_s[(data_s.기준일ID >= 20220000) & (data_s.기준일ID <= 20230000)]\n",
    "year22=(year22.총생활인구수.sum() / len(year22))\n",
    "year22"
   ]
  },
  {
   "cell_type": "markdown",
   "id": "e09c001d",
   "metadata": {},
   "source": [
    "#### 3) int형으로 되어있는 2021년 생활인구수 평균값 구하기"
   ]
  },
  {
   "cell_type": "code",
   "execution_count": 11,
   "id": "5675b0d1",
   "metadata": {},
   "outputs": [
    {
     "data": {
      "text/plain": [
       "10768002.12109589"
      ]
     },
     "execution_count": 11,
     "metadata": {},
     "output_type": "execute_result"
    }
   ],
   "source": [
    "# 2021년 일별 생활인구수 평균\n",
    "year21=data_s[(data_s.기준일ID >= 20210000) & (data_s.기준일ID <= 20220000)]\n",
    "year21=(year21.총생활인구수.sum() / len(year21))\n",
    "year21"
   ]
  },
  {
   "cell_type": "markdown",
   "id": "bda1acef",
   "metadata": {},
   "source": [
    "#### 4) int형으로 되어있는 2020년 생활인구수 평균값 구하기"
   ]
  },
  {
   "cell_type": "code",
   "execution_count": 12,
   "id": "83991415",
   "metadata": {},
   "outputs": [
    {
     "data": {
      "text/plain": [
       "11060398.846789617"
      ]
     },
     "execution_count": 12,
     "metadata": {},
     "output_type": "execute_result"
    }
   ],
   "source": [
    "# 2020년 일별 생활인구수 평균\n",
    "year20=data_s[(data_s.기준일ID >= 20200000) & (data_s.기준일ID <= 20210000)]\n",
    "year20=(year20.총생활인구수.sum() / len(year20))\n",
    "year20"
   ]
  },
  {
   "cell_type": "markdown",
   "id": "8082ef0e",
   "metadata": {},
   "source": [
    "#### 5) int형으로 되어있는 2019년 생활인구수 평균값 구하기"
   ]
  },
  {
   "cell_type": "code",
   "execution_count": 13,
   "id": "782c1073",
   "metadata": {},
   "outputs": [
    {
     "data": {
      "text/plain": [
       "11286994.720116477"
      ]
     },
     "execution_count": 13,
     "metadata": {},
     "output_type": "execute_result"
    }
   ],
   "source": [
    "# 2019년 일별 생활인구수 평균\n",
    "year19=data_s[(data_s.기준일ID >= 20190000) & (data_s.기준일ID <= 20200000)]\n",
    "year19=(year19.총생활인구수.sum() / len(year19))\n",
    "year19"
   ]
  },
  {
   "cell_type": "markdown",
   "id": "c50a0357",
   "metadata": {},
   "source": [
    "#### 6) int형으로 되어있는 2023년 생활인구수 평균값 구하기"
   ]
  },
  {
   "cell_type": "code",
   "execution_count": 14,
   "id": "2282a6f8",
   "metadata": {},
   "outputs": [
    {
     "data": {
      "text/plain": [
       "11519391.614383765"
      ]
     },
     "execution_count": 14,
     "metadata": {},
     "output_type": "execute_result"
    }
   ],
   "source": [
    "# 2018년 일별 생활인구수 평균\n",
    "year18=data_s[(data_s.기준일ID >= 20180000) & (data_s.기준일ID <= 20190000)]\n",
    "year18=(year18.총생활인구수.sum() / len(year18))\n",
    "year18"
   ]
  },
  {
   "cell_type": "markdown",
   "id": "53e7e32e",
   "metadata": {},
   "source": [
    "### 년도별 일별 생활인구수 데이터 프레임 생성"
   ]
  },
  {
   "cell_type": "code",
   "execution_count": 15,
   "id": "f9e1e04b",
   "metadata": {},
   "outputs": [
    {
     "data": {
      "text/html": [
       "<div>\n",
       "<style scoped>\n",
       "    .dataframe tbody tr th:only-of-type {\n",
       "        vertical-align: middle;\n",
       "    }\n",
       "\n",
       "    .dataframe tbody tr th {\n",
       "        vertical-align: top;\n",
       "    }\n",
       "\n",
       "    .dataframe thead th {\n",
       "        text-align: right;\n",
       "    }\n",
       "</style>\n",
       "<table border=\"1\" class=\"dataframe\">\n",
       "  <thead>\n",
       "    <tr style=\"text-align: right;\">\n",
       "      <th></th>\n",
       "      <th>0</th>\n",
       "    </tr>\n",
       "  </thead>\n",
       "  <tbody>\n",
       "    <tr>\n",
       "      <th>2018년</th>\n",
       "      <td>1.151939e+07</td>\n",
       "    </tr>\n",
       "    <tr>\n",
       "      <th>2019년</th>\n",
       "      <td>1.128699e+07</td>\n",
       "    </tr>\n",
       "    <tr>\n",
       "      <th>2020년</th>\n",
       "      <td>1.106040e+07</td>\n",
       "    </tr>\n",
       "    <tr>\n",
       "      <th>2021년</th>\n",
       "      <td>1.076800e+07</td>\n",
       "    </tr>\n",
       "    <tr>\n",
       "      <th>2022년</th>\n",
       "      <td>1.084196e+07</td>\n",
       "    </tr>\n",
       "    <tr>\n",
       "      <th>2023년</th>\n",
       "      <td>1.074934e+07</td>\n",
       "    </tr>\n",
       "  </tbody>\n",
       "</table>\n",
       "</div>"
      ],
      "text/plain": [
       "                  0\n",
       "2018년  1.151939e+07\n",
       "2019년  1.128699e+07\n",
       "2020년  1.106040e+07\n",
       "2021년  1.076800e+07\n",
       "2022년  1.084196e+07\n",
       "2023년  1.074934e+07"
      ]
     },
     "execution_count": 15,
     "metadata": {},
     "output_type": "execute_result"
    }
   ],
   "source": [
    "# 년도별 일별 생활인구수 값을 가진 새로운 데이터프레임 생성\n",
    "data_ss=pd.DataFrame(data=[year18, year19, year20, year21, year22, year23], index=['2018년','2019년','2020년','2021년','2022년','2023년'])\n",
    "data_ss"
   ]
  },
  {
   "cell_type": "markdown",
   "id": "247ba698",
   "metadata": {},
   "source": [
    "### 컬럼명 재지정"
   ]
  },
  {
   "cell_type": "code",
   "execution_count": 16,
   "id": "a5075165",
   "metadata": {
    "scrolled": true
   },
   "outputs": [
    {
     "data": {
      "text/html": [
       "<div>\n",
       "<style scoped>\n",
       "    .dataframe tbody tr th:only-of-type {\n",
       "        vertical-align: middle;\n",
       "    }\n",
       "\n",
       "    .dataframe tbody tr th {\n",
       "        vertical-align: top;\n",
       "    }\n",
       "\n",
       "    .dataframe thead th {\n",
       "        text-align: right;\n",
       "    }\n",
       "</style>\n",
       "<table border=\"1\" class=\"dataframe\">\n",
       "  <thead>\n",
       "    <tr style=\"text-align: right;\">\n",
       "      <th></th>\n",
       "      <th>총 생활인구수</th>\n",
       "    </tr>\n",
       "  </thead>\n",
       "  <tbody>\n",
       "    <tr>\n",
       "      <th>2018년</th>\n",
       "      <td>1.151939e+07</td>\n",
       "    </tr>\n",
       "    <tr>\n",
       "      <th>2019년</th>\n",
       "      <td>1.128699e+07</td>\n",
       "    </tr>\n",
       "    <tr>\n",
       "      <th>2020년</th>\n",
       "      <td>1.106040e+07</td>\n",
       "    </tr>\n",
       "    <tr>\n",
       "      <th>2021년</th>\n",
       "      <td>1.076800e+07</td>\n",
       "    </tr>\n",
       "    <tr>\n",
       "      <th>2022년</th>\n",
       "      <td>1.084196e+07</td>\n",
       "    </tr>\n",
       "    <tr>\n",
       "      <th>2023년</th>\n",
       "      <td>1.074934e+07</td>\n",
       "    </tr>\n",
       "  </tbody>\n",
       "</table>\n",
       "</div>"
      ],
      "text/plain": [
       "            총 생활인구수\n",
       "2018년  1.151939e+07\n",
       "2019년  1.128699e+07\n",
       "2020년  1.106040e+07\n",
       "2021년  1.076800e+07\n",
       "2022년  1.084196e+07\n",
       "2023년  1.074934e+07"
      ]
     },
     "execution_count": 16,
     "metadata": {},
     "output_type": "execute_result"
    }
   ],
   "source": [
    "# 데이터프레임 컬럼명 변경\n",
    "# value 실수 소숫점 자리수 수정\n",
    "data_ss.rename(columns={0:'총 생활인구수'},inplace=True)\n",
    "data_ss\n",
    "\n",
    "# 소수점 8자리 까지 보이게 출력\n",
    "pd.options.display.float_format = '{:.8f}'.format"
   ]
  },
  {
   "cell_type": "markdown",
   "id": "76c9958c",
   "metadata": {},
   "source": [
    "## 3) 서울 생활인구 추이 시각화"
   ]
  },
  {
   "cell_type": "code",
   "execution_count": 17,
   "id": "137c43b3",
   "metadata": {
    "scrolled": true
   },
   "outputs": [
    {
     "data": {
      "text/plain": [
       "<AxesSubplot:title={'center':'서울 생활인구 추이'}>"
      ]
     },
     "execution_count": 17,
     "metadata": {},
     "output_type": "execute_result"
    },
    {
     "data": {
      "text/plain": [
       "(6000000.0, 12000000.0)"
      ]
     },
     "execution_count": 17,
     "metadata": {},
     "output_type": "execute_result"
    },
    {
     "data": {
      "image/png": "[encoded data removed]",
      "text/plain": [
       "<Figure size 500x300 with 1 Axes>"
      ]
     },
     "metadata": {},
     "output_type": "display_data"
    }
   ],
   "source": [
    "# 시각화 : 일일 서울 생활인구 년도별 추이\n",
    "data_ss.plot(figsize=(5,3),title = '서울 생활인구 추이', color='#ffd7ba')\n",
    "plt.ticklabel_format(axis='y',useOffset=False, style='plain')\n",
    "plt.ylim([6000000,12000000])\n",
    "pd.options.display.float_format = '{:.8f}'.format"
   ]
  },
  {
   "cell_type": "markdown",
   "id": "20894a07",
   "metadata": {},
   "source": [
    "## 그래프 수정\n",
    "- 컬럼명 변경 : 총 생활인구수 --> 일일 생활인구\n",
    "- y값 : 12000000--> 12 (ylabel = 일일 생활인구(단위 : 백만(명))\n",
    "- 제목 : 서울시 일일 생활인구 추이\n",
    "- 선 색깔 : 파랑('dodgerblue')/ 초록 \n",
    "- marker 추가\n",
    "- y축 범위 변경 : 6000000:12000000-->8000000:12000000\n",
    "- 스타일 : ggplot, fivethirtyeight"
   ]
  },
  {
   "cell_type": "code",
   "execution_count": 18,
   "id": "73a656ee",
   "metadata": {},
   "outputs": [
    {
     "data": {
      "text/html": [
       "<div>\n",
       "<style scoped>\n",
       "    .dataframe tbody tr th:only-of-type {\n",
       "        vertical-align: middle;\n",
       "    }\n",
       "\n",
       "    .dataframe tbody tr th {\n",
       "        vertical-align: top;\n",
       "    }\n",
       "\n",
       "    .dataframe thead th {\n",
       "        text-align: right;\n",
       "    }\n",
       "</style>\n",
       "<table border=\"1\" class=\"dataframe\">\n",
       "  <thead>\n",
       "    <tr style=\"text-align: right;\">\n",
       "      <th></th>\n",
       "      <th>총 생활인구수</th>\n",
       "    </tr>\n",
       "  </thead>\n",
       "  <tbody>\n",
       "    <tr>\n",
       "      <th>2018년</th>\n",
       "      <td>11519391.61438376</td>\n",
       "    </tr>\n",
       "    <tr>\n",
       "      <th>2019년</th>\n",
       "      <td>11286994.72011648</td>\n",
       "    </tr>\n",
       "    <tr>\n",
       "      <th>2020년</th>\n",
       "      <td>11060398.84678962</td>\n",
       "    </tr>\n",
       "    <tr>\n",
       "      <th>2021년</th>\n",
       "      <td>10768002.12109589</td>\n",
       "    </tr>\n",
       "    <tr>\n",
       "      <th>2022년</th>\n",
       "      <td>10841955.70779178</td>\n",
       "    </tr>\n",
       "  </tbody>\n",
       "</table>\n",
       "</div>"
      ],
      "text/plain": [
       "                총 생활인구수\n",
       "2018년 11519391.61438376\n",
       "2019년 11286994.72011648\n",
       "2020년 11060398.84678962\n",
       "2021년 10768002.12109589\n",
       "2022년 10841955.70779178"
      ]
     },
     "execution_count": 18,
     "metadata": {},
     "output_type": "execute_result"
    }
   ],
   "source": [
    "# 시각화 데이터프레임 컬럼명 수정\n",
    "data_ss.head()\n",
    "data_ss1 = data_ss.rename(columns={0:'일일 생활인구'})"
   ]
  },
  {
   "cell_type": "code",
   "execution_count": 19,
   "id": "53325821",
   "metadata": {},
   "outputs": [
    {
     "data": {
      "text/html": [
       "<div>\n",
       "<style scoped>\n",
       "    .dataframe tbody tr th:only-of-type {\n",
       "        vertical-align: middle;\n",
       "    }\n",
       "\n",
       "    .dataframe tbody tr th {\n",
       "        vertical-align: top;\n",
       "    }\n",
       "\n",
       "    .dataframe thead th {\n",
       "        text-align: right;\n",
       "    }\n",
       "</style>\n",
       "<table border=\"1\" class=\"dataframe\">\n",
       "  <thead>\n",
       "    <tr style=\"text-align: right;\">\n",
       "      <th></th>\n",
       "      <th>총 생활인구수</th>\n",
       "    </tr>\n",
       "  </thead>\n",
       "  <tbody>\n",
       "    <tr>\n",
       "      <th>2018년</th>\n",
       "      <td>11519391.61438376</td>\n",
       "    </tr>\n",
       "    <tr>\n",
       "      <th>2019년</th>\n",
       "      <td>11286994.72011648</td>\n",
       "    </tr>\n",
       "    <tr>\n",
       "      <th>2020년</th>\n",
       "      <td>11060398.84678962</td>\n",
       "    </tr>\n",
       "    <tr>\n",
       "      <th>2021년</th>\n",
       "      <td>10768002.12109589</td>\n",
       "    </tr>\n",
       "    <tr>\n",
       "      <th>2022년</th>\n",
       "      <td>10841955.70779178</td>\n",
       "    </tr>\n",
       "  </tbody>\n",
       "</table>\n",
       "</div>"
      ],
      "text/plain": [
       "                총 생활인구수\n",
       "2018년 11519391.61438376\n",
       "2019년 11286994.72011648\n",
       "2020년 11060398.84678962\n",
       "2021년 10768002.12109589\n",
       "2022년 10841955.70779178"
      ]
     },
     "execution_count": 19,
     "metadata": {},
     "output_type": "execute_result"
    },
    {
     "data": {
      "text/html": [
       "<div>\n",
       "<style scoped>\n",
       "    .dataframe tbody tr th:only-of-type {\n",
       "        vertical-align: middle;\n",
       "    }\n",
       "\n",
       "    .dataframe tbody tr th {\n",
       "        vertical-align: top;\n",
       "    }\n",
       "\n",
       "    .dataframe thead th {\n",
       "        text-align: right;\n",
       "    }\n",
       "</style>\n",
       "<table border=\"1\" class=\"dataframe\">\n",
       "  <thead>\n",
       "    <tr style=\"text-align: right;\">\n",
       "      <th></th>\n",
       "      <th>총 생활인구수</th>\n",
       "    </tr>\n",
       "  </thead>\n",
       "  <tbody>\n",
       "    <tr>\n",
       "      <th>2018년</th>\n",
       "      <td>11.51939161</td>\n",
       "    </tr>\n",
       "    <tr>\n",
       "      <th>2019년</th>\n",
       "      <td>11.28699472</td>\n",
       "    </tr>\n",
       "    <tr>\n",
       "      <th>2020년</th>\n",
       "      <td>11.06039885</td>\n",
       "    </tr>\n",
       "    <tr>\n",
       "      <th>2021년</th>\n",
       "      <td>10.76800212</td>\n",
       "    </tr>\n",
       "    <tr>\n",
       "      <th>2022년</th>\n",
       "      <td>10.84195571</td>\n",
       "    </tr>\n",
       "    <tr>\n",
       "      <th>2023년</th>\n",
       "      <td>10.74934178</td>\n",
       "    </tr>\n",
       "  </tbody>\n",
       "</table>\n",
       "</div>"
      ],
      "text/plain": [
       "          총 생활인구수\n",
       "2018년 11.51939161\n",
       "2019년 11.28699472\n",
       "2020년 11.06039885\n",
       "2021년 10.76800212\n",
       "2022년 10.84195571\n",
       "2023년 10.74934178"
      ]
     },
     "execution_count": 19,
     "metadata": {},
     "output_type": "execute_result"
    }
   ],
   "source": [
    "# 시각화 데이터프레임 수정\n",
    "data_ss1.head()\n",
    "data_ss2 = data_ss1/1000000\n",
    "data_ss2"
   ]
  },
  {
   "cell_type": "markdown",
   "id": "0ef9ff5f",
   "metadata": {},
   "source": [
    "### 수정된 서울시 일별 평균 생활인구표 시각화"
   ]
  },
  {
   "cell_type": "code",
   "execution_count": 20,
   "id": "18251349",
   "metadata": {},
   "outputs": [
    {
     "data": {
      "text/plain": [
       "<AxesSubplot:title={'center':'서울시 일일 생활인구 추이'}>"
      ]
     },
     "execution_count": 20,
     "metadata": {},
     "output_type": "execute_result"
    },
    {
     "data": {
      "text/plain": [
       "Text(0.5, 0, '기간')"
      ]
     },
     "execution_count": 20,
     "metadata": {},
     "output_type": "execute_result"
    },
    {
     "data": {
      "text/plain": [
       "Text(0, 0.5, '백만(명)')"
      ]
     },
     "execution_count": 20,
     "metadata": {},
     "output_type": "execute_result"
    },
    {
     "data": {
      "text/plain": [
       "Text(0.5, 1.0, '서울시 일일 생활인구 추이')"
      ]
     },
     "execution_count": 20,
     "metadata": {},
     "output_type": "execute_result"
    },
    {
     "data": {
      "text/plain": [
       "(8.0, 12.0)"
      ]
     },
     "execution_count": 20,
     "metadata": {},
     "output_type": "execute_result"
    },
    {
     "data": {
      "image/png": "[encoded data removed]",
      "text/plain": [
       "<Figure size 1000x500 with 1 Axes>"
      ]
     },
     "metadata": {},
     "output_type": "display_data"
    }
   ],
   "source": [
    "# 시각화 : 서울시 일일 생활인구 기간별 추이 \n",
    "plt.style.use('ggplot')\n",
    "data_ss2.plot(figsize=(10,5),title = '서울시 일일 생활인구 추이', color='dodgerblue', \n",
    "             marker = 'o', markersize = 5, markerfacecolor = 'navy')\n",
    "plt.xlabel('기간', labelpad = 10)\n",
    "plt.ylabel('백만(명)', labelpad = 10)\n",
    "plt.title('서울시 일일 생활인구 추이', pad = 10, fontweight = 'bold')\n",
    "plt.ticklabel_format(axis='y',useOffset=False, style='plain')\n",
    "plt.ylim([8,12])\n",
    "pd.options.display.float_format = '{:.8f}'.format\n",
    "\n",
    "plt.savefig('서울시 일일 생활인구 추이.png')"
   ]
  },
  {
   "cell_type": "markdown",
   "id": "82c37037",
   "metadata": {},
   "source": [
    "### 결론\n",
    "2018년부터 2023년까지 서울시 일일 생활인구는 약하게 감소하였지만, 감소폭이 약  70만명 정도로 작기 때문에 서울시 일일 생활인구 수는 거의 유지된다고 볼 수 있음"
   ]
  }
 ],
 "metadata": {
  "kernelspec": {
   "display_name": "Python 3 (ipykernel)",
   "language": "python",
   "name": "python3"
  },
  "language_info": {
   "codemirror_mode": {
    "name": "ipython",
    "version": 3
   },
   "file_extension": ".py",
   "mimetype": "text/x-python",
   "name": "python",
   "nbconvert_exporter": "python",
   "pygments_lexer": "ipython3",
   "version": "3.9.13"
  }
 },
 "nbformat": 4,
 "nbformat_minor": 5
}
